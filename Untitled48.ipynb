{
 "cells": [
  {
   "cell_type": "markdown",
   "metadata": {
    "id": "Mkxnj24OCAab"
   },
   "source": [
    "Importing the Libraries"
   ]
  },
  {
   "cell_type": "code",
   "execution_count": 1,
   "metadata": {
    "id": "K1558Kz8B_a5"
   },
   "outputs": [],
   "source": [
    "import tensorflow as tf\n",
    "import numpy as np\n",
    "import pandas as pd\n",
    "from keras.preprocessing.image import ImageDataGenerator"
   ]
  },
  {
   "cell_type": "markdown",
   "metadata": {
    "id": "znNOgk7CCJhE"
   },
   "source": [
    "Preprocessing the training set"
   ]
  },
  {
   "cell_type": "code",
   "execution_count": 2,
   "metadata": {
    "id": "VLlJjRptCL_I"
   },
   "outputs": [
    {
     "name": "stdout",
     "output_type": "stream",
     "text": [
      "Found 8000 images belonging to 2 classes.\n"
     ]
    }
   ],
   "source": [
    "train_datagen=ImageDataGenerator(rescale=1./255,shear_range=0.2,zoom_range=0.2,horizontal_flip=True)\n",
    "training_set=train_datagen.flow_from_directory(r\"C:\\Users\\admin\\dataset\\training_set_1\",batch_size=32,class_mode='binary',target_size=(64,64))"
   ]
  },
  {
   "cell_type": "markdown",
   "metadata": {
    "id": "AZsP1JuPFJy4"
   },
   "source": [
    "Preprocessing the test set"
   ]
  },
  {
   "cell_type": "code",
   "execution_count": 3,
   "metadata": {
    "id": "AVd8u3ZiFMFj"
   },
   "outputs": [
    {
     "name": "stdout",
     "output_type": "stream",
     "text": [
      "Found 2000 images belonging to 2 classes.\n"
     ]
    }
   ],
   "source": [
    "test_datagen=ImageDataGenerator(rescale=1./255)\n",
    "test_set=test_datagen.flow_from_directory(r\"C:\\Users\\admin\\dataset\\test_set\",batch_size=32,target_size=(64,64),class_mode='binary')"
   ]
  },
  {
   "cell_type": "markdown",
   "metadata": {
    "id": "P8wFbYxZFoJk"
   },
   "source": [
    "Initializing the CNN"
   ]
  },
  {
   "cell_type": "code",
   "execution_count": 4,
   "metadata": {
    "id": "GhBNEH3qFrEd"
   },
   "outputs": [],
   "source": [
    "cnn=tf.keras.models.Sequential()\n",
    "cnn.add(tf.keras.layers.Conv2D(kernel_size=3,filters=32,activation='relu',input_shape=[64,64,3]))\n",
    "cnn.add(tf.keras.layers.MaxPool2D(pool_size=2,strides=2))\n",
    "cnn.add(tf.keras.layers.Conv2D(kernel_size=3,filters=32,activation='relu'))\n",
    "cnn.add(tf.keras.layers.MaxPool2D(pool_size=2,strides=2))\n",
    "cnn.add(tf.keras.layers.Flatten())\n",
    "cnn.add(tf.keras.layers.Dense(units=128,activation='relu'))\n",
    "cnn.add(tf.keras.layers.Dense(units=1,activation='sigmoid'))"
   ]
  },
  {
   "cell_type": "markdown",
   "metadata": {
    "id": "aX-T-fflG3a7"
   },
   "source": [
    "Training the CNN"
   ]
  },
  {
   "cell_type": "code",
   "execution_count": 5,
   "metadata": {
    "id": "3OZSRXwHG5Vg"
   },
   "outputs": [
    {
     "name": "stdout",
     "output_type": "stream",
     "text": [
      "Epoch 1/25\n",
      "250/250 [==============================] - 36s 143ms/step - loss: 0.6767 - accuracy: 0.5724 - val_loss: 0.6458 - val_accuracy: 0.6045\n",
      "Epoch 2/25\n",
      "250/250 [==============================] - 33s 133ms/step - loss: 0.5957 - accuracy: 0.6791 - val_loss: 0.6198 - val_accuracy: 0.6600\n",
      "Epoch 3/25\n",
      "250/250 [==============================] - 36s 143ms/step - loss: 0.5603 - accuracy: 0.7126 - val_loss: 0.5588 - val_accuracy: 0.7200\n",
      "Epoch 4/25\n",
      "250/250 [==============================] - 34s 137ms/step - loss: 0.5395 - accuracy: 0.7249 - val_loss: 0.5757 - val_accuracy: 0.6960\n",
      "Epoch 5/25\n",
      "250/250 [==============================] - 34s 137ms/step - loss: 0.5113 - accuracy: 0.7490 - val_loss: 0.5191 - val_accuracy: 0.7515\n",
      "Epoch 6/25\n",
      "250/250 [==============================] - 34s 136ms/step - loss: 0.4943 - accuracy: 0.7609 - val_loss: 0.4759 - val_accuracy: 0.7850\n",
      "Epoch 7/25\n",
      "250/250 [==============================] - 34s 137ms/step - loss: 0.4737 - accuracy: 0.7704 - val_loss: 0.4745 - val_accuracy: 0.7835\n",
      "Epoch 8/25\n",
      "250/250 [==============================] - 34s 136ms/step - loss: 0.4687 - accuracy: 0.7746 - val_loss: 0.5161 - val_accuracy: 0.7685\n",
      "Epoch 9/25\n",
      "250/250 [==============================] - 34s 137ms/step - loss: 0.4563 - accuracy: 0.7861 - val_loss: 0.4542 - val_accuracy: 0.7950\n",
      "Epoch 10/25\n",
      "250/250 [==============================] - 34s 136ms/step - loss: 0.4424 - accuracy: 0.7931 - val_loss: 0.4864 - val_accuracy: 0.7820\n",
      "Epoch 11/25\n",
      "250/250 [==============================] - 34s 135ms/step - loss: 0.4309 - accuracy: 0.7972 - val_loss: 0.4777 - val_accuracy: 0.7890\n",
      "Epoch 12/25\n",
      "250/250 [==============================] - 34s 136ms/step - loss: 0.4307 - accuracy: 0.7987 - val_loss: 0.4576 - val_accuracy: 0.7930\n",
      "Epoch 13/25\n",
      "250/250 [==============================] - 34s 137ms/step - loss: 0.4125 - accuracy: 0.8159 - val_loss: 0.4541 - val_accuracy: 0.7970\n",
      "Epoch 14/25\n",
      "250/250 [==============================] - 34s 135ms/step - loss: 0.4122 - accuracy: 0.8080 - val_loss: 0.4968 - val_accuracy: 0.7840\n",
      "Epoch 15/25\n",
      "250/250 [==============================] - 34s 136ms/step - loss: 0.4040 - accuracy: 0.8108 - val_loss: 0.4582 - val_accuracy: 0.7910\n",
      "Epoch 16/25\n",
      "250/250 [==============================] - 34s 136ms/step - loss: 0.4036 - accuracy: 0.8136 - val_loss: 0.5074 - val_accuracy: 0.7735\n",
      "Epoch 17/25\n",
      "250/250 [==============================] - 34s 136ms/step - loss: 0.3934 - accuracy: 0.8248 - val_loss: 0.4449 - val_accuracy: 0.8040\n",
      "Epoch 18/25\n",
      "250/250 [==============================] - 34s 136ms/step - loss: 0.3840 - accuracy: 0.8232 - val_loss: 0.5307 - val_accuracy: 0.7810\n",
      "Epoch 19/25\n",
      "250/250 [==============================] - 34s 136ms/step - loss: 0.3860 - accuracy: 0.8236 - val_loss: 0.4538 - val_accuracy: 0.8055\n",
      "Epoch 20/25\n",
      "250/250 [==============================] - 34s 136ms/step - loss: 0.3624 - accuracy: 0.8357 - val_loss: 0.4685 - val_accuracy: 0.7980\n",
      "Epoch 21/25\n",
      "250/250 [==============================] - 34s 136ms/step - loss: 0.3650 - accuracy: 0.8370 - val_loss: 0.4999 - val_accuracy: 0.8050\n",
      "Epoch 22/25\n",
      "250/250 [==============================] - 34s 135ms/step - loss: 0.3649 - accuracy: 0.8353 - val_loss: 0.5027 - val_accuracy: 0.7840\n",
      "Epoch 23/25\n",
      "250/250 [==============================] - 34s 136ms/step - loss: 0.3585 - accuracy: 0.8406 - val_loss: 0.4417 - val_accuracy: 0.8075\n",
      "Epoch 24/25\n",
      "250/250 [==============================] - 34s 138ms/step - loss: 0.3400 - accuracy: 0.8455 - val_loss: 0.5437 - val_accuracy: 0.7995\n",
      "Epoch 25/25\n",
      "250/250 [==============================] - 34s 136ms/step - loss: 0.3463 - accuracy: 0.8472 - val_loss: 0.4733 - val_accuracy: 0.8000\n"
     ]
    },
    {
     "data": {
      "text/plain": [
       "<keras.src.callbacks.History at 0x24a13b05ed0>"
      ]
     },
     "execution_count": 5,
     "metadata": {},
     "output_type": "execute_result"
    }
   ],
   "source": [
    "cnn.compile(optimizer='adam',loss='binary_crossentropy',metrics=['accuracy'])\n",
    "cnn.fit(x=training_set,validation_data=test_set,epochs=25)"
   ]
  },
  {
   "cell_type": "markdown",
   "metadata": {
    "id": "I52EmsrLHTKw"
   },
   "source": [
    "Make a Single Prediction"
   ]
  },
  {
   "cell_type": "code",
   "execution_count": 10,
   "metadata": {
    "id": "yyPmx1JWH6mh"
   },
   "outputs": [
    {
     "name": "stdout",
     "output_type": "stream",
     "text": [
      "1/1 [==============================] - 0s 18ms/step\n",
      "dog\n"
     ]
    }
   ],
   "source": [
    "from keras.preprocessing import image\n",
    "test_image=image.load_img(r\"C:\\Users\\admin\\dog_test_2.jpg\",target_size=(64,64))\n",
    "test_image=image.img_to_array(test_image)\n",
    "test_image=np.expand_dims(test_image,axis=0)\n",
    "result=cnn.predict(test_image)\n",
    "training_set.class_indices\n",
    "if result[0][0]==1:\n",
    "  prediction='dog'\n",
    "else:\n",
    "  prediction='cat'\n",
    "print(prediction)"
   ]
  },
  {
   "cell_type": "code",
   "execution_count": null,
   "metadata": {},
   "outputs": [],
   "source": []
  },
  {
   "cell_type": "code",
   "execution_count": null,
   "metadata": {},
   "outputs": [],
   "source": []
  }
 ],
 "metadata": {
  "colab": {
   "provenance": []
  },
  "kernelspec": {
   "display_name": "Python 3 (ipykernel)",
   "language": "python",
   "name": "python3"
  },
  "language_info": {
   "codemirror_mode": {
    "name": "ipython",
    "version": 3
   },
   "file_extension": ".py",
   "mimetype": "text/x-python",
   "name": "python",
   "nbconvert_exporter": "python",
   "pygments_lexer": "ipython3",
   "version": "3.11.4"
  }
 },
 "nbformat": 4,
 "nbformat_minor": 1
}
